{
 "cells": [
  {
   "cell_type": "code",
   "execution_count": 1,
   "id": "9f0c6a17",
   "metadata": {},
   "outputs": [],
   "source": [
    "%matplotlib inline"
   ]
  },
  {
   "cell_type": "code",
   "execution_count": 2,
   "id": "d63b4f3d",
   "metadata": {},
   "outputs": [],
   "source": [
    "import os\n",
    "import json\n",
    "from collections import namedtuple\n",
    "\n",
    "import numpy as np\n",
    "import torch\n",
    "from nuscenes.prediction import convert_local_coords_to_global\n",
    "from sklearn.cluster import AgglomerativeClustering\n",
    "\n",
    "from datasets.nuscenes.dataset import NuscenesH5Dataset\n",
    "from models.autobot_ego import AutoBotEgo\n",
    "from process_args import get_eval_args\n",
    "\n",
    "import matplotlib.pyplot as plt\n",
    "import pandas as pd"
   ]
  },
  {
   "cell_type": "code",
   "execution_count": 3,
   "id": "05a55c64",
   "metadata": {},
   "outputs": [],
   "source": [
    "from nuscenes import NuScenes\n",
    "from nuscenes.prediction import PredictHelper\n",
    "from nuscenes.eval.prediction.splits import get_prediction_challenge_split\n",
    "from nuscenes.map_expansion.map_api import NuScenesMap\n",
    "from nuscenes.prediction.input_representation.static_layers import get_lanes_in_radius, StaticLayerRasterizer, correct_yaw\n",
    "from nuscenes.prediction.helper import quaternion_yaw, convert_global_coords_to_local, make_2d_rotation_matrix, angle_of_rotation\n",
    "from typing import Dict\n",
    "from pyquaternion import Quaternion"
   ]
  },
  {
   "cell_type": "code",
   "execution_count": 4,
   "id": "e71b658a",
   "metadata": {},
   "outputs": [],
   "source": [
    "def is_insquare(points, car_pos, ego_range):\n",
    "    if (car_pos[0] - ego_range[0] < points[0] < car_pos[0] + ego_range[1]) and \\\n",
    "        (car_pos[1] - ego_range[2] < points[1] < car_pos[1] + ego_range[3]):\n",
    "        return True\n",
    "    return False"
   ]
  },
  {
   "cell_type": "code",
   "execution_count": 5,
   "id": "4a17ef39",
   "metadata": {},
   "outputs": [],
   "source": [
    "def distance(t1, t2) -> float:\n",
    "    return math.sqrt((t1[0] - t2[0]) ** 2 + (t1[1] - t2[1]) ** 2)"
   ]
  },
  {
   "cell_type": "code",
   "execution_count": 6,
   "id": "de119532",
   "metadata": {},
   "outputs": [],
   "source": [
    "def load_all_maps(helper: PredictHelper, verbose: bool = False) -> Dict[str, NuScenesMap]:\n",
    "    \"\"\"\n",
    "    Loads all NuScenesMap instances for all available maps.\n",
    "    :param helper: Instance of PredictHelper.\n",
    "    :param verbose: Whether to print to stdout.\n",
    "    :return: Mapping from map-name to the NuScenesMap api instance.\n",
    "    \"\"\"\n",
    "    dataroot = helper.data.dataroot\n",
    "\n",
    "    json_files = filter(\n",
    "        lambda f: \"json\" in f and \"prediction_scenes\" not in f, os.listdir(os.path.join(dataroot, \"maps\", \"expansion\"))\n",
    "    )\n",
    "    maps = {}\n",
    "\n",
    "    for map_file in json_files:\n",
    "\n",
    "        map_name = str(map_file.split(\".\")[0])\n",
    "        if verbose:\n",
    "            print(f\"static_layers.py - Loading Map: {map_name}\")\n",
    "\n",
    "        maps[map_name] = NuScenesMap(dataroot, map_name=map_name)\n",
    "\n",
    "    return maps"
   ]
  },
  {
   "cell_type": "code",
   "execution_count": 7,
   "id": "de26d83b",
   "metadata": {},
   "outputs": [],
   "source": [
    "def get_map_features(nusc_map, x, y, yaw, radius, reference_position=None, _max_number_roads=100, _number_future_road_points=40):\n",
    "    curr_map = np.zeros((_max_number_roads, _number_future_road_points, 4))\n",
    "    lanes = get_lanes_in_radius(x=x, y=y, radius=200, map_api=nusc_map, discretization_meters=2.0)\n",
    "\n",
    "    # need to combine lanes that are connected to avoid random gaps.\n",
    "    combined_lane_ids = []  # list of connected lane ids.\n",
    "    ignore_lane_ids = []  # List of lane ids to ignore because they are connected to prior lane ids.\n",
    "    for lane_id in lanes.keys():\n",
    "        if lane_id in ignore_lane_ids:\n",
    "            continue\n",
    "        curr_lane_ids = [lane_id]\n",
    "        out_lane_ids = nusc_map.get_outgoing_lane_ids(lane_id)\n",
    "        for out_lane_id in out_lane_ids:\n",
    "            if out_lane_id in lanes.keys():\n",
    "                curr_lane_ids.append(out_lane_id)\n",
    "                ignore_lane_ids.append(out_lane_id)\n",
    "\n",
    "                outout_lane_ids = nusc_map.get_outgoing_lane_ids(out_lane_id)\n",
    "                for outout_lane_id in outout_lane_ids:\n",
    "                    if outout_lane_id in lanes.keys():\n",
    "                        curr_lane_ids.append(outout_lane_id)\n",
    "                        ignore_lane_ids.append(outout_lane_id)\n",
    "\n",
    "        combined_lane_ids.append(curr_lane_ids)\n",
    "\n",
    "    relevant_pts = []\n",
    "    for i in range(len(combined_lane_ids)):\n",
    "        for lane_id in combined_lane_ids[i]:\n",
    "            pts = lanes[lane_id]\n",
    "            road_pts = []\n",
    "            for pt in pts:\n",
    "                pt = list(pt)\n",
    "                pt.append(1.0)\n",
    "                pt = np.array(pt)\n",
    "                road_pts.append(pt)\n",
    "            if len(road_pts) > 0:\n",
    "                relevant_pts.append(np.array(road_pts))\n",
    "\n",
    "    # relevant_pts is a list of lists, which each sublist containing the points on a road in the fov.\n",
    "    if len(relevant_pts) > 0:\n",
    "        # relevant_pts is a list of arrays each with [numb_pts, 3]\n",
    "        # need to sort each one according to its closeness to the agent position\n",
    "        first_pts = []\n",
    "        for i in range(len(relevant_pts)):\n",
    "            indices = np.argsort(np.linalg.norm(np.array([[x, y]]) - relevant_pts[i][:, :2], axis=1))\n",
    "            relevant_pts[i] = relevant_pts[i][indices]\n",
    "            first_pts.append(relevant_pts[i][0])\n",
    "\n",
    "        # sort using the first point of each road\n",
    "        first_pts = np.array(first_pts)\n",
    "        indices = np.argsort(np.linalg.norm(np.array([[x, y]]) - first_pts[:, :2], axis=1)).tolist()\n",
    "        mymap = np.array(relevant_pts, dtype=object)[indices[:_max_number_roads]]\n",
    "        for i in range(min(len(mymap), _max_number_roads)):\n",
    "            curr_map[i, :min(len(mymap[i]), _number_future_road_points)] = \\\n",
    "                mymap[i][:min(len(mymap[i]), _number_future_road_points)]\n",
    "    else:\n",
    "        raise Exception(\"Did not find any lanes in the map...\")\n",
    "    return curr_map"
   ]
  },
  {
   "cell_type": "code",
   "execution_count": 8,
   "id": "d41637cb",
   "metadata": {},
   "outputs": [],
   "source": [
    "def convert_coordinates_to_ego(points, ego_rotation, ego_translation):\n",
    "    rotated_points = convert_global_coords_to_local(points, \n",
    "                                                    ego_translation, \n",
    "                                                    ego_rotation)\n",
    "    return rotated_points"
   ]
  },
  {
   "cell_type": "code",
   "execution_count": 9,
   "id": "b52c7a19",
   "metadata": {},
   "outputs": [],
   "source": [
    "def get_box_points(width, length, instance_translation, instance_rotation):\n",
    "    center = np.array([0, 0])\n",
    "    upper_right_corner = np.array([width/2, length/2])\n",
    "    upper_left_corner = np.array([-width/2, length/2])\n",
    "    lower_right_corner = np.array([-width/2, -length/2])\n",
    "    lower_left_corner = np.array([width/2, -length/2])\n",
    "    points = np.vstack([center, upper_right_corner, upper_left_corner, \n",
    "                      lower_right_corner, lower_left_corner])\n",
    "    return convert_local_coords_to_global(points, \n",
    "                                          instance_translation, \n",
    "                                          instance_rotation)"
   ]
  },
  {
   "cell_type": "code",
   "execution_count": 38,
   "id": "463ad2bb",
   "metadata": {},
   "outputs": [],
   "source": [
    "def filter_construction_objects(sample_token):\n",
    "    object_points = []\n",
    "    sample_info = nusc.get('sample', sample_token)\n",
    "    construction_flag = False\n",
    "    for instance_token in sample_info['anns']:\n",
    "        instance = nusc.get('sample_annotation', instance_token)\n",
    "        if instance['category_name'] in [\"movable_object.barrier\", \n",
    "                                         \"movable_object.trafficcone\"]:\n",
    "            \n",
    "            width, length, _ = instance['size']\n",
    "            points = get_box_points(width, length, instance['translation'], instance['rotation'])\n",
    "            \n",
    "            ego_translation = ego_vehicle['translation']\n",
    "            ego_rotation = ego_vehicle['rotation']\n",
    "            \n",
    "            rotated_points = convert_coordinates_to_ego(points, \n",
    "                                                        ego_rotation, \n",
    "                                                        ego_translation)\n",
    "            if is_insquare(rotated_points[0], [0., 0.], ego_range):\n",
    "                augmented_points = np.hstack([rotated_points, \n",
    "                                              (instance['translation'][-1]-ego_vehicle['translation'][-1])*np.ones((5,1)), \n",
    "                                              np.ones((5,1))])\n",
    "                \n",
    "                object_points.append(np.vstack([augmented_points, np.zeros((35, 4))]))\n",
    "                construction_flag = True\n",
    "                \n",
    "    object_points = np.array(object_points)\n",
    "    if object_points.shape[0] == 0:\n",
    "        return np.zeros((50,40,4))\n",
    "    indices = np.argsort(np.linalg.norm(object_points[:,0,:], axis=1)).tolist()   \n",
    "    object_points = object_points[indices]\n",
    "    n_objs, _, _ = object_points.shape\n",
    "    \n",
    "    if n_objs >= 50:\n",
    "        return object_points[:50,:,:], construction_flag\n",
    "    else:\n",
    "        return np.vstack([object_points, np.zeros((50-n_objs,40,4))]), construction_flag"
   ]
  },
  {
   "cell_type": "code",
   "execution_count": 11,
   "id": "f48a2e94",
   "metadata": {},
   "outputs": [
    {
     "name": "stdout",
     "output_type": "stream",
     "text": [
      "======\n",
      "Loading NuScenes tables for version v1.0-trainval...\n",
      "23 category,\n",
      "8 attribute,\n",
      "4 visibility,\n",
      "64386 instance,\n",
      "12 sensor,\n",
      "10200 calibrated_sensor,\n",
      "2631083 ego_pose,\n",
      "68 log,\n",
      "850 scene,\n",
      "34149 sample,\n",
      "2631083 sample_data,\n",
      "1166187 sample_annotation,\n",
      "4 map,\n",
      "Done loading in 18.274 seconds.\n",
      "======\n",
      "Reverse indexing ...\n",
      "Done reverse indexing in 3.9 seconds.\n",
      "======\n"
     ]
    }
   ],
   "source": [
    "from nuscenes.nuscenes import NuScenes\n",
    "\n",
    "DATAROOT = '/home/juan/Documents/trajectory_prediction/datasets/nuscenes/v1.0-trainval_full/'\n",
    "VERSION = 'v1.0-trainval'\n",
    "nusc = NuScenes(VERSION, dataroot=DATAROOT)"
   ]
  },
  {
   "cell_type": "code",
   "execution_count": 12,
   "id": "0a3e5135",
   "metadata": {},
   "outputs": [],
   "source": [
    "_helper = PredictHelper(nusc)"
   ]
  },
  {
   "cell_type": "code",
   "execution_count": 13,
   "id": "11b7c696",
   "metadata": {},
   "outputs": [
    {
     "name": "stdout",
     "output_type": "stream",
     "text": [
      "static_layers.py - Loading Map: singapore-hollandvillage\n",
      "static_layers.py - Loading Map: boston-seaport\n",
      "static_layers.py - Loading Map: singapore-onenorth\n",
      "static_layers.py - Loading Map: singapore-queenstown\n"
     ]
    }
   ],
   "source": [
    "_map_dict = load_all_maps(_helper, verbose=True)"
   ]
  },
  {
   "cell_type": "code",
   "execution_count": 14,
   "id": "b5567da6",
   "metadata": {},
   "outputs": [],
   "source": [
    "#sample_token = \"ad9a4ac746ed482d9011da67b95d0364\"\n",
    "#sample_token = \"0c7b724903d145549281eb79c236e0ba\"\n",
    "sample_token = \"ca7bd3e7bf664a1aa2a4a06858285ed6\"\n",
    "#sample_token = \"f017adc5c691441c8a1d218e38551501\"\n",
    "#sample_token = \"0466f5710063461b92556fb2d6767980\"\n",
    "#sample_token = \"4796e86af90c4ff4bef41ecb11bb280d\"\n",
    "#sample_token = \"8613eaa60fdb40e7b7564f4bd1a0a713\"\n",
    "\n",
    "#sample_token = \"9aa4c454c6154c069354edd8819f767a\""
   ]
  },
  {
   "cell_type": "code",
   "execution_count": 15,
   "id": "f964d14b",
   "metadata": {},
   "outputs": [
    {
     "data": {
      "text/plain": [
       "'singapore-onenorth'"
      ]
     },
     "execution_count": 15,
     "metadata": {},
     "output_type": "execute_result"
    }
   ],
   "source": [
    "map_name = _helper.get_map_name_from_sample_token(sample_token)"
   ]
  },
  {
   "cell_type": "code",
   "execution_count": 24,
   "id": "2eebae97",
   "metadata": {},
   "outputs": [
    {
     "name": "stdout",
     "output_type": "stream",
     "text": [
      "static_layers.py - Loading Map: singapore-hollandvillage\n",
      "static_layers.py - Loading Map: boston-seaport\n",
      "static_layers.py - Loading Map: singapore-onenorth\n",
      "static_layers.py - Loading Map: singapore-queenstown\n"
     ]
    }
   ],
   "source": [
    "_map_dict = load_all_maps(_helper, verbose=True)"
   ]
  },
  {
   "cell_type": "code",
   "execution_count": 16,
   "id": "647656f8",
   "metadata": {},
   "outputs": [],
   "source": [
    "sample_info = nusc.get('sample', sample_token)"
   ]
  },
  {
   "cell_type": "code",
   "execution_count": 17,
   "id": "3fb320f8",
   "metadata": {},
   "outputs": [],
   "source": [
    "first_car = True\n",
    "for instance_token in sample_info[\"anns\"]:\n",
    "    instance = nusc.get('sample_annotation', instance_token)\n",
    "    #print(instance['category_name'])\n",
    "    if instance['category_name'] == \"vehicle.car\" and first_car:\n",
    "        first_car = False\n",
    "        ego_token = instance_token"
   ]
  },
  {
   "cell_type": "code",
   "execution_count": 18,
   "id": "e7cac350",
   "metadata": {},
   "outputs": [],
   "source": [
    "ego_vehicle = nusc.get('sample_annotation', ego_token)"
   ]
  },
  {
   "cell_type": "code",
   "execution_count": 19,
   "id": "9ffe157c",
   "metadata": {},
   "outputs": [
    {
     "data": {
      "text/plain": [
       "-1.9532852323703234"
      ]
     },
     "execution_count": 19,
     "metadata": {},
     "output_type": "execute_result"
    }
   ],
   "source": [
    "quaternion_yaw(Quaternion(ego_vehicle['rotation']))"
   ]
  },
  {
   "cell_type": "code",
   "execution_count": 20,
   "id": "4712af5d",
   "metadata": {},
   "outputs": [
    {
     "data": {
      "text/plain": [
       "-1.1883074212194698"
      ]
     },
     "execution_count": 20,
     "metadata": {},
     "output_type": "execute_result"
    }
   ],
   "source": [
    "theta = correct_yaw(quaternion_yaw(Quaternion(ego_vehicle['rotation'])))\n",
    "theta"
   ]
  },
  {
   "cell_type": "code",
   "execution_count": 22,
   "id": "97f3e723",
   "metadata": {},
   "outputs": [],
   "source": [
    "x, y = ego_vehicle[\"translation\"][0], ego_vehicle[\"translation\"][1]"
   ]
  },
  {
   "cell_type": "code",
   "execution_count": 25,
   "id": "f53ed87d",
   "metadata": {},
   "outputs": [],
   "source": [
    "curr_map = get_map_features(_map_dict[map_name], \n",
    "                            x, \n",
    "                            y, \n",
    "                            theta, \n",
    "                            radius=200, \n",
    "                            reference_position=None, \n",
    "                            _max_number_roads=max_number_roads, \n",
    "                            _number_future_road_points=number_future_road_points)"
   ]
  },
  {
   "cell_type": "code",
   "execution_count": 26,
   "id": "d3c11ecd",
   "metadata": {},
   "outputs": [],
   "source": [
    "rotated_map = np.zeros_like(curr_map)\n",
    "for road_idx in range(len(curr_map)):\n",
    "    for pt_idx in range(len(curr_map[road_idx])):\n",
    "        if curr_map[road_idx, pt_idx, -1] == 1:\n",
    "            rotated_pt = convert_global_coords_to_local(curr_map[road_idx, pt_idx, :2], ego_vehicle['translation'],\n",
    "                                                        ego_vehicle['rotation'])\n",
    "            #print(rotated_pt)\n",
    "            if is_insquare(rotated_pt[0], [0., 0.], ego_range):\n",
    "                rotated_map[road_idx, pt_idx, :2] = rotated_pt\n",
    "                rotated_map[road_idx, pt_idx, 2] = theta - curr_map[road_idx, pt_idx, 2]\n",
    "                rotated_map[road_idx, pt_idx, -1] = 1"
   ]
  },
  {
   "cell_type": "code",
   "execution_count": 27,
   "id": "b2141243",
   "metadata": {},
   "outputs": [
    {
     "data": {
      "text/plain": [
       "(100, 40, 4)"
      ]
     },
     "execution_count": 27,
     "metadata": {},
     "output_type": "execute_result"
    }
   ],
   "source": [
    "rotated_map.shape"
   ]
  },
  {
   "cell_type": "code",
   "execution_count": 28,
   "id": "3d1be85b",
   "metadata": {},
   "outputs": [],
   "source": [
    "map_x = [point[0] for segment in rotated_map for point in segment]\n",
    "map_y = [point[1] for segment in rotated_map for point in segment]\n",
    "map_z = [point[2] for segment in rotated_map for point in segment]"
   ]
  },
  {
   "cell_type": "code",
   "execution_count": 29,
   "id": "3860bbc7",
   "metadata": {},
   "outputs": [
    {
     "data": {
      "text/plain": [
       "<matplotlib.legend.Legend at 0x7f554428a790>"
      ]
     },
     "execution_count": 29,
     "metadata": {},
     "output_type": "execute_result"
    },
    {
     "data": {
      "image/png": "[encoded data removed]",
      "text/plain": [
       "<Figure size 800x800 with 1 Axes>"
      ]
     },
     "metadata": {},
     "output_type": "display_data"
    }
   ],
   "source": [
    "plt.figure(figsize=(8,8))\n",
    "plt.scatter(map_x, map_y, s=3, color=\"gray\", label=\"road points\")\n",
    "plt.xlim(-80,80)\n",
    "plt.ylim(-80,80)\n",
    "plt.legend()"
   ]
  },
  {
   "cell_type": "code",
   "execution_count": 32,
   "id": "b94a3257",
   "metadata": {},
   "outputs": [],
   "source": [
    "objects = filter_construction_objects(sample_token)"
   ]
  },
  {
   "cell_type": "code",
   "execution_count": 36,
   "id": "2508a4bf",
   "metadata": {},
   "outputs": [],
   "source": [
    "objects_x = [point[0] for object_i in objects for point in object_i]\n",
    "objects_y = [point[1] for object_i in objects for point in object_i]"
   ]
  },
  {
   "cell_type": "code",
   "execution_count": 37,
   "id": "a89704f8",
   "metadata": {},
   "outputs": [
    {
     "data": {
      "text/plain": [
       "<matplotlib.legend.Legend at 0x7f55a8bb8c50>"
      ]
     },
     "execution_count": 37,
     "metadata": {},
     "output_type": "execute_result"
    },
    {
     "data": {
      "image/png": "[encoded data removed]",
      "text/plain": [
       "<Figure size 800x800 with 1 Axes>"
      ]
     },
     "metadata": {},
     "output_type": "display_data"
    }
   ],
   "source": [
    "plt.figure(figsize=(8,8))\n",
    "plt.scatter(map_x, map_y, s=3, color=\"gray\", label=\"road points\")\n",
    "plt.scatter(objects_x, objects_y, s=0.2, color=\"orange\", label=\"construction objects\")\n",
    "plt.xlim(-80,80)\n",
    "plt.ylim(-80,80)\n",
    "plt.legend()"
   ]
  },
  {
   "cell_type": "code",
   "execution_count": 44,
   "id": "73a8d63e",
   "metadata": {},
   "outputs": [],
   "source": [
    "from datasets.nuscenes.raw_dataset import NuScenesDataset"
   ]
  },
  {
   "cell_type": "code",
   "execution_count": 47,
   "id": "08646ec4",
   "metadata": {},
   "outputs": [],
   "source": [
    "max_num_agents = 20"
   ]
  },
  {
   "cell_type": "code",
   "execution_count": 48,
   "id": "83dde297",
   "metadata": {},
   "outputs": [
    {
     "name": "stdout",
     "output_type": "stream",
     "text": [
      "======\n",
      "Loading NuScenes tables for version v1.0-trainval...\n",
      "23 category,\n",
      "8 attribute,\n",
      "4 visibility,\n",
      "64386 instance,\n",
      "12 sensor,\n",
      "10200 calibrated_sensor,\n",
      "2631083 ego_pose,\n",
      "68 log,\n",
      "850 scene,\n",
      "34149 sample,\n",
      "2631083 sample_data,\n",
      "1166187 sample_annotation,\n",
      "4 map,\n",
      "Done loading in 18.666 seconds.\n",
      "======\n",
      "Reverse indexing ...\n",
      "Done reverse indexing in 4.1 seconds.\n",
      "======\n",
      "static_layers.py - Loading Map: singapore-hollandvillage\n",
      "static_layers.py - Loading Map: boston-seaport\n",
      "static_layers.py - Loading Map: singapore-onenorth\n",
      "static_layers.py - Loading Map: singapore-queenstown\n"
     ]
    }
   ],
   "source": [
    "nuscenes = NuScenesDataset(data_root=DATAROOT, split_name='val',\n",
    "                               version='v1.0-trainval', ego_range=ego_range, num_others=max_num_agents)"
   ]
  },
  {
   "cell_type": "code",
   "execution_count": null,
   "id": "42eee693",
   "metadata": {},
   "outputs": [],
   "source": [
    "def count_\n",
    "    _map_dict = load_all_maps(_helper, verbose=True)"
   ]
  },
  {
   "cell_type": "code",
   "execution_count": null,
   "id": "7d5ac4af",
   "metadata": {},
   "outputs": [],
   "source": []
  }
 ],
 "metadata": {
  "kernelspec": {
   "display_name": "AutoBots",
   "language": "python",
   "name": "autobots"
  },
  "language_info": {
   "codemirror_mode": {
    "name": "ipython",
    "version": 3
   },
   "file_extension": ".py",
   "mimetype": "text/x-python",
   "name": "python",
   "nbconvert_exporter": "python",
   "pygments_lexer": "ipython3",
   "version": "3.7.16"
  }
 },
 "nbformat": 4,
 "nbformat_minor": 5
}
